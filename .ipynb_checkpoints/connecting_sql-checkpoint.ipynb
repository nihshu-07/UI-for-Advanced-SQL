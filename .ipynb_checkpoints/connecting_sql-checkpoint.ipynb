{
 "cells": [
  {
   "cell_type": "code",
   "execution_count": 1,
   "id": "4b0059b6-0453-4c95-a046-c28c6616616a",
   "metadata": {},
   "outputs": [],
   "source": [
    "import pymysql\n",
    "import pandas as pd\n",
    "\n",
    "conn = pymysql.connect(\n",
    "    host=\"localhost\",\n",
    "    user=\"root\",\n",
    "    password=\"ROOT\",\n",
    "    database=\"project_stream\",\n",
    "    port=3306\n",
    ")"
   ]
  },
  {
   "cell_type": "code",
   "execution_count": 3,
   "id": "506c8560-514c-45fe-a0ad-cc338df415f2",
   "metadata": {},
   "outputs": [],
   "source": [
    "# create a function out of it\n",
    "\n",
    "def connect_to_db():\n",
    "    return pymysql.connect(\n",
    "    host=\"localhost\",\n",
    "    user=\"root\",\n",
    "    password=\"ROOT\",\n",
    "    database=\"project_stream\",\n",
    "    port=3306)"
   ]
  },
  {
   "cell_type": "code",
   "execution_count": 6,
   "id": "2f974c61-d0b3-4eb0-972f-63e5302082bf",
   "metadata": {},
   "outputs": [],
   "source": [
    "db = connect_to_db()\n",
    "cursor = db.cursor()"
   ]
  },
  {
   "cell_type": "code",
   "execution_count": 7,
   "id": "25dd1ba7-b81b-4c16-8077-51847a7073d5",
   "metadata": {},
   "outputs": [
    {
     "data": {
      "text/plain": [
       "<pymysql.cursors.Cursor at 0x262515e4530>"
      ]
     },
     "execution_count": 7,
     "metadata": {},
     "output_type": "execute_result"
    }
   ],
   "source": [
    "cursor"
   ]
  },
  {
   "cell_type": "code",
   "execution_count": 8,
   "id": "4bbe67be-c1df-4e22-8c73-475f6b4dd31c",
   "metadata": {},
   "outputs": [
    {
     "data": {
      "text/plain": [
       "1"
      ]
     },
     "execution_count": 8,
     "metadata": {},
     "output_type": "execute_result"
    }
   ],
   "source": [
    "cursor.execute(\"SELECT COUNT(*) as total_suppliers FROM suppliers\")"
   ]
  },
  {
   "cell_type": "code",
   "execution_count": 9,
   "id": "0315d3ec-dee6-44bb-afa5-ff2f64c2481e",
   "metadata": {},
   "outputs": [],
   "source": [
    "row = cursor.fetchone()"
   ]
  },
  {
   "cell_type": "code",
   "execution_count": 13,
   "id": "059734b8-7dbb-4a09-9bc9-e81f66afd30c",
   "metadata": {},
   "outputs": [
    {
     "data": {
      "text/plain": [
       "50"
      ]
     },
     "execution_count": 13,
     "metadata": {},
     "output_type": "execute_result"
    }
   ],
   "source": [
    "list(row)[0]"
   ]
  },
  {
   "cell_type": "code",
   "execution_count": 14,
   "id": "a87740a3-dbfb-46c8-bba1-a2d7d5da47c4",
   "metadata": {},
   "outputs": [],
   "source": [
    "queries = {\n",
    "\"Total Suppliers\":\"SELECT COUNT(*) as total_suppliers FROM suppliers\",\n",
    "\n",
    "\"Total products\": \"SELECT count(*) as total_products FROM products\",\n",
    "\n",
    "\"Total category\" :\"SELECT count(distinct category) as total_category FROM products\",\n",
    "\n",
    "\"Total sales value made in last 3 months\":\"\"\"SELECT ROUND(SUM(ABS(se.change_quantity) * p.price), 2) AS total_sales_last_3_months\n",
    "FROM stock_entries se\n",
    "JOIN products p \n",
    "ON p.product_id = se.product_id\n",
    "WHERE se.change_type = 'Sale'\n",
    "AND se.entry_date >= (\n",
    "    SELECT DATE_SUB(MAX(entry_date), INTERVAL 3 MONTH)\n",
    "    FROM stock_entries\n",
    "     )\"\"\",\n",
    "\n",
    "\n",
    "\"total restock value made in last 3 months\":\"\"\"SELECT ROUND(SUM(ABS(se.change_quantity) * p.price), 2) AS total_restock_last_3_months\n",
    "FROM stock_entries se\n",
    "JOIN products p \n",
    "  ON p.product_id = se.product_id\n",
    "WHERE se.change_type = 'Restock'\n",
    "  AND se.entry_date >= (\n",
    "        SELECT DATE_SUB(MAX(entry_date), INTERVAL 3 MONTH)\n",
    "        FROM stock_entries\n",
    "     )\"\"\",\n",
    "     \n",
    "\"below reorder and no pending reorders\":\"\"\"SELECT COUNT(*) FROM products as p\n",
    "WHERE p.stock_quantity < p.reorder_level\n",
    "AND p.product_id NOT IN (\n",
    "SELECT DISTINCT product_id FROM reorders WHERE status = 'pending'\n",
    ")\"\"\"\t\n",
    "}"
   ]
  },
  {
   "cell_type": "code",
   "execution_count": 16,
   "id": "68487180-8345-438f-847a-4c8f2a62d1de",
   "metadata": {},
   "outputs": [],
   "source": [
    "result = {}\n",
    "for label,query in queries.items():\n",
    "    cursor.execute(query)\n",
    "    row = cursor.fetchone()\n",
    "    \n",
    "    result[label] = list(row)[0]"
   ]
  },
  {
   "cell_type": "code",
   "execution_count": 17,
   "id": "91f32a77-7f27-4f1a-bb64-9f6ceca281fe",
   "metadata": {},
   "outputs": [
    {
     "data": {
      "text/plain": [
       "{'Total Suppliers': 50,\n",
       " 'Total products': 200,\n",
       " 'Total category': 5,\n",
       " 'Total sales value made in last 3 months': 1529482.99,\n",
       " 'total restock value made in last 3 months': 6691663.1,\n",
       " 'below reorder and no pending reorders': 14}"
      ]
     },
     "execution_count": 17,
     "metadata": {},
     "output_type": "execute_result"
    }
   ],
   "source": [
    "result"
   ]
  },
  {
   "cell_type": "code",
   "execution_count": null,
   "id": "fd10faee-3d42-4857-ba4d-1e9102a5c69c",
   "metadata": {},
   "outputs": [],
   "source": []
  }
 ],
 "metadata": {
  "kernelspec": {
   "display_name": "Python 3 (ipykernel)",
   "language": "python",
   "name": "python3"
  },
  "language_info": {
   "codemirror_mode": {
    "name": "ipython",
    "version": 3
   },
   "file_extension": ".py",
   "mimetype": "text/x-python",
   "name": "python",
   "nbconvert_exporter": "python",
   "pygments_lexer": "ipython3",
   "version": "3.12.7"
  }
 },
 "nbformat": 4,
 "nbformat_minor": 5
}
