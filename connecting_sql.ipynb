{
 "cells": [
  {
   "cell_type": "code",
   "execution_count": 6,
   "id": "4b0059b6-0453-4c95-a046-c28c6616616a",
   "metadata": {},
   "outputs": [],
   "source": [
    "import pymysql\n",
    "import pandas as pd\n",
    "\n",
    "conn = pymysql.connect(\n",
    "    host=\"localhost\",\n",
    "    user=\"root\",\n",
    "    password=\"ROOT\",\n",
    "    database=\"project_stream\",\n",
    "    port=3306\n",
    ")"
   ]
  },
  {
   "cell_type": "code",
   "execution_count": 7,
   "id": "506c8560-514c-45fe-a0ad-cc338df415f2",
   "metadata": {},
   "outputs": [],
   "source": [
    "# create a function out of it\n",
    "\n",
    "def connect_to_db():\n",
    "    return pymysql.connect(\n",
    "    host=\"localhost\",\n",
    "    user=\"root\",\n",
    "    password=\"ROOT\",\n",
    "    database=\"project_stream\",\n",
    "    port=3306)"
   ]
  },
  {
   "cell_type": "code",
   "execution_count": 8,
   "id": "2f974c61-d0b3-4eb0-972f-63e5302082bf",
   "metadata": {},
   "outputs": [],
   "source": [
    "db = connect_to_db()\n",
    "cursor = db.cursor()"
   ]
  },
  {
   "cell_type": "code",
   "execution_count": 9,
   "id": "25dd1ba7-b81b-4c16-8077-51847a7073d5",
   "metadata": {},
   "outputs": [
    {
     "data": {
      "text/plain": [
       "<pymysql.cursors.Cursor at 0x2735628c770>"
      ]
     },
     "execution_count": 9,
     "metadata": {},
     "output_type": "execute_result"
    }
   ],
   "source": [
    "cursor"
   ]
  },
  {
   "cell_type": "code",
   "execution_count": 10,
   "id": "4bbe67be-c1df-4e22-8c73-475f6b4dd31c",
   "metadata": {},
   "outputs": [
    {
     "data": {
      "text/plain": [
       "1"
      ]
     },
     "execution_count": 10,
     "metadata": {},
     "output_type": "execute_result"
    }
   ],
   "source": [
    "cursor.execute(\"SELECT COUNT(*) as total_suppliers FROM suppliers\")"
   ]
  },
  {
   "cell_type": "code",
   "execution_count": 11,
   "id": "0315d3ec-dee6-44bb-afa5-ff2f64c2481e",
   "metadata": {},
   "outputs": [],
   "source": [
    "row = cursor.fetchone()"
   ]
  },
  {
   "cell_type": "code",
   "execution_count": 12,
   "id": "059734b8-7dbb-4a09-9bc9-e81f66afd30c",
   "metadata": {},
   "outputs": [
    {
     "data": {
      "text/plain": [
       "50"
      ]
     },
     "execution_count": 12,
     "metadata": {},
     "output_type": "execute_result"
    }
   ],
   "source": [
    "list(row)[0]"
   ]
  },
  {
   "cell_type": "code",
   "execution_count": 13,
   "id": "a87740a3-dbfb-46c8-bba1-a2d7d5da47c4",
   "metadata": {},
   "outputs": [],
   "source": [
    "queries = {\n",
    "    \"Total Suppliers\":\"SELECT COUNT(*) as total_suppliers FROM suppliers\",\n",
    "    \n",
    "    \"Total products\": \"SELECT count(*) as total_products FROM products\",\n",
    "    \n",
    "    \"Total category\" :\"SELECT count(distinct category) as total_category FROM products\",\n",
    "    \n",
    "    \"Total sales value made in last 3 months\":\"\"\"SELECT ROUND(SUM(ABS(se.change_quantity) * p.price), 2) AS total_sales_last_3_months\n",
    "    FROM stock_entries se\n",
    "    JOIN products p \n",
    "    ON p.product_id = se.product_id\n",
    "    WHERE se.change_type = 'Sale'\n",
    "    AND se.entry_date >= (\n",
    "        SELECT DATE_SUB(MAX(entry_date), INTERVAL 3 MONTH)\n",
    "        FROM stock_entries\n",
    "         )\"\"\",\n",
    "    \n",
    "    \n",
    "    \"total restock value made in last 3 months\":\"\"\"SELECT ROUND(SUM(ABS(se.change_quantity) * p.price), 2) AS total_restock_last_3_months\n",
    "    FROM stock_entries se\n",
    "    JOIN products p \n",
    "      ON p.product_id = se.product_id\n",
    "    WHERE se.change_type = 'Restock'\n",
    "      AND se.entry_date >= (\n",
    "            SELECT DATE_SUB(MAX(entry_date), INTERVAL 3 MONTH)\n",
    "            FROM stock_entries\n",
    "         )\"\"\",\n",
    "     \n",
    "    \"below reorder and no pending reorders\":\"\"\"SELECT COUNT(*) FROM products as p\n",
    "    WHERE p.stock_quantity < p.reorder_level\n",
    "    AND p.product_id NOT IN (\n",
    "    SELECT DISTINCT product_id FROM reorders WHERE status = 'pending'\n",
    "    )\"\"\"\t\n",
    "    }"
   ]
  },
  {
   "cell_type": "code",
   "execution_count": 14,
   "id": "68487180-8345-438f-847a-4c8f2a62d1de",
   "metadata": {},
   "outputs": [],
   "source": [
    "result = {}\n",
    "for label,query in queries.items():\n",
    "    cursor.execute(query)\n",
    "    row = cursor.fetchone()\n",
    "        \n",
    "    result[label] = list(row)[0]"
   ]
  },
  {
   "cell_type": "code",
   "execution_count": 15,
   "id": "91f32a77-7f27-4f1a-bb64-9f6ceca281fe",
   "metadata": {},
   "outputs": [
    {
     "data": {
      "text/plain": [
       "{'Total Suppliers': 50,\n",
       " 'Total products': 200,\n",
       " 'Total category': 5,\n",
       " 'Total sales value made in last 3 months': 1529482.99,\n",
       " 'total restock value made in last 3 months': 6691663.1,\n",
       " 'below reorder and no pending reorders': 14}"
      ]
     },
     "execution_count": 15,
     "metadata": {},
     "output_type": "execute_result"
    }
   ],
   "source": [
    "result"
   ]
  },
  {
   "cell_type": "code",
   "execution_count": 16,
   "id": "fd10faee-3d42-4857-ba4d-1e9102a5c69c",
   "metadata": {},
   "outputs": [],
   "source": [
    "def get_basic_info(cursor):\n",
    "    queries = {\n",
    "    \"Total Suppliers\":\"SELECT COUNT(*) as total_suppliers FROM suppliers\",\n",
    "    \n",
    "    \"Total products\": \"SELECT count(*) as total_products FROM products\",\n",
    "    \n",
    "    \"Total category\" :\"SELECT count(distinct category) as total_category FROM products\",\n",
    "    \n",
    "    \"Total sales value made in last 3 months\":\"\"\"SELECT ROUND(SUM(ABS(se.change_quantity) * p.price), 2) AS total_sales_last_3_months\n",
    "    FROM stock_entries se\n",
    "    JOIN products p \n",
    "    ON p.product_id = se.product_id\n",
    "    WHERE se.change_type = 'Sale'\n",
    "    AND se.entry_date >= (\n",
    "        SELECT DATE_SUB(MAX(entry_date), INTERVAL 3 MONTH)\n",
    "        FROM stock_entries\n",
    "         )\"\"\",\n",
    "    \n",
    "    \n",
    "    \"total restock value made in last 3 months\":\"\"\"SELECT ROUND(SUM(ABS(se.change_quantity) * p.price), 2) AS total_restock_last_3_months\n",
    "    FROM stock_entries se\n",
    "    JOIN products p \n",
    "      ON p.product_id = se.product_id\n",
    "    WHERE se.change_type = 'Restock'\n",
    "      AND se.entry_date >= (\n",
    "            SELECT DATE_SUB(MAX(entry_date), INTERVAL 3 MONTH)\n",
    "            FROM stock_entries\n",
    "         )\"\"\",\n",
    "     \n",
    "\"below reorder and no pending reorders\":\"\"\"SELECT COUNT(*) FROM products as p\n",
    "WHERE p.stock_quantity < p.reorder_level\n",
    "AND p.product_id NOT IN (\n",
    "SELECT DISTINCT product_id FROM reorders WHERE status = 'pending'\n",
    ")\"\"\"\t\n",
    "}\n",
    "result = {}\n",
    "for label,query in queries.items():\n",
    "    cursor.execute(query)\n",
    "    row = cursor.fetchone()\n",
    "        \n",
    "    result[label] = list(row)[0]"
   ]
  },
  {
   "cell_type": "code",
   "execution_count": 17,
   "id": "730644b9-f86a-4d1f-a681-9d65c6cf6fa3",
   "metadata": {},
   "outputs": [],
   "source": [
    "def get_additional_tables(cursor):\n",
    "    queries = {\n",
    "        \"Suppliers Contact details\": \"SELECT supplier_name,contact_name,email,phone FROM suppliers\",\n",
    "\n",
    "        \"Product with supplier and stock\": \"\"\"SELECT p.product_name,s.supplier_name,p.stock_quantity,p.reorder_level \n",
    "                                            FROM products as p\n",
    "                                            JOIN suppliers s ON\n",
    "                                            p.supplier_id = s.supplier_id\n",
    "                                            ORDER BY p.product_name ASC\"\"\",\n",
    "\n",
    "        \"Product needing reorder\": \"\"\"SELECT product_id,product_name,stock_quantity,reorder_level FROM products\n",
    "                                    WHERE stock_quantity < reorder_level;\"\"\"\n",
    "    }\n",
    "\n",
    "    tables = {}\n",
    "    for label, query in queries.items():\n",
    "        cursor.execute(query)\n",
    "        tables[label] = cursor.fetchall()\n",
    "\n",
    "    return tables"
   ]
  },
  {
   "cell_type": "code",
   "execution_count": 18,
   "id": "3ddc9cb0-e670-406a-b84e-2fcc59427ec2",
   "metadata": {},
   "outputs": [],
   "source": [
    "def add_new_manual_id(cursor,db,p_name,p_category,p_price,p_stock,p_reorder,p_supplier):\n",
    "    proc_call = \"call AddNewProductManualId(%s,%s,%s,%s,%s,%s)\"\n",
    "    params = (p_name,p_category,p_price,p_stock,p_reorder,p_supplier)\n",
    "    cursor.execute(proc_call,params)\n",
    "    db.commit()"
   ]
  },
  {
   "cell_type": "code",
   "execution_count": 19,
   "id": "594a663c-72df-471a-b8da-7872ab1925be",
   "metadata": {},
   "outputs": [],
   "source": [
    "def get_categories(cursor):\n",
    "    cursor.execute(\"SELECT DISTINCT category FROM products ORDER BY category ASC\")\n",
    "    rows = cursor.fetchall()\n",
    "    return [row[\"category\"]for row in rows]"
   ]
  },
  {
   "cell_type": "code",
   "execution_count": 20,
   "id": "f8cd0fba-0bba-41ee-a305-8a3010404eaf",
   "metadata": {},
   "outputs": [],
   "source": [
    "def get_suppliers(cursor):\n",
    "    cursor.execute(\"SELECT supplier_id , supplier_name FROM suppliers ORDER BY supplier_name ASC\")\n",
    "    return cursor.fetchall()"
   ]
  },
  {
   "cell_type": "code",
   "execution_count": 21,
   "id": "b16711bb-b166-4a1a-871b-c4973e35d0d4",
   "metadata": {},
   "outputs": [],
   "source": [
    "suppliers = get_suppliers(cursor)"
   ]
  },
  {
   "cell_type": "code",
   "execution_count": 22,
   "id": "13817440-3d48-4135-9cb2-950b6d9fda92",
   "metadata": {},
   "outputs": [
    {
     "ename": "TypeError",
     "evalue": "tuple indices must be integers or slices, not str",
     "output_type": "error",
     "traceback": [
      "\u001b[31m---------------------------------------------------------------------------\u001b[39m",
      "\u001b[31mTypeError\u001b[39m                                 Traceback (most recent call last)",
      "\u001b[36mCell\u001b[39m\u001b[36m \u001b[39m\u001b[32mIn[22]\u001b[39m\u001b[32m, line 1\u001b[39m\n\u001b[32m----> \u001b[39m\u001b[32m1\u001b[39m supplier_ids=[\u001b[43ms\u001b[49m\u001b[43m[\u001b[49m\u001b[33;43m\"\u001b[39;49m\u001b[33;43mSupplier_id\u001b[39;49m\u001b[33;43m\"\u001b[39;49m\u001b[43m]\u001b[49m \u001b[38;5;28;01mfor\u001b[39;00m s \u001b[38;5;129;01min\u001b[39;00m suppliers]\n\u001b[32m      2\u001b[39m supplier_name=[s[\u001b[33m\"\u001b[39m\u001b[33mSupplier_name\u001b[39m\u001b[33m\"\u001b[39m] \u001b[38;5;28;01mfor\u001b[39;00m s \u001b[38;5;129;01min\u001b[39;00m suppliers]\n",
      "\u001b[31mTypeError\u001b[39m: tuple indices must be integers or slices, not str"
     ]
    }
   ],
   "source": [
    "supplier_ids=[s[\"Supplier_id\"] for s in suppliers]\n",
    "supplier_name=[s[\"Supplier_name\"] for s in suppliers]"
   ]
  },
  {
   "cell_type": "code",
   "execution_count": null,
   "id": "5e2eed84-e737-4940-a585-e1f009bee1a1",
   "metadata": {},
   "outputs": [],
   "source": []
  }
 ],
 "metadata": {
  "kernelspec": {
   "display_name": "Python 3 (ipykernel)",
   "language": "python",
   "name": "python3"
  },
  "language_info": {
   "codemirror_mode": {
    "name": "ipython",
    "version": 3
   },
   "file_extension": ".py",
   "mimetype": "text/x-python",
   "name": "python",
   "nbconvert_exporter": "python",
   "pygments_lexer": "ipython3",
   "version": "3.12.7"
  }
 },
 "nbformat": 4,
 "nbformat_minor": 5
}
